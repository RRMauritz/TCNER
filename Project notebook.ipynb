{
 "cells": [
  {
   "cell_type": "code",
   "execution_count": 1,
   "metadata": {},
   "outputs": [],
   "source": [
    "# Imports\n",
    "import pandas as pd\n",
    "from sklearn.feature_extraction.text import CountVectorizer\n",
    "from sklearn.naive_bayes import MultinomialNB\n",
    "from sklearn import metrics\n"
   ]
  },
  {
   "cell_type": "code",
   "execution_count": 2,
   "metadata": {},
   "outputs": [],
   "source": [
    "# Load training data \n",
    "with open('DBLPTrainset.txt') as f:\n",
    "    lines = f.readlines()\n",
    "\n",
    "for i in range(len(lines)):\n",
    "    pre = lines[i].split()[1:]\n",
    "    lines[i] = [pre[0], ' '.join(pre[1:])]\n",
    "\n",
    "# Store in pandas data frame\n",
    "train = pd.DataFrame(lines, columns=['Label', 'Title'])"
   ]
  },
  {
   "cell_type": "code",
   "execution_count": 3,
   "metadata": {},
   "outputs": [],
   "source": [
    "# Load test data and combine in one pandas frame (from two separate files)\n",
    "with open('DBLPTestset.txt') as f:\n",
    "    lines = f.readlines()\n",
    "for i in range(len(lines)):\n",
    "    pre = lines[i].split()[1:]\n",
    "    lines[i] = [' '.join(pre[1:])]\n",
    "\n",
    "test = pd.DataFrame(lines, columns=['Title'])\n",
    "\n",
    "with open('DBLPTestGroundTruth.txt') as f:\n",
    "    lines = f.readlines()\n",
    "for i in range(len(lines)):\n",
    "    lines[i] = lines[i].split()[1:][0]\n",
    "test['Label'] = lines"
   ]
  },
  {
   "cell_type": "code",
   "execution_count": 5,
   "metadata": {},
   "outputs": [],
   "source": [
    "# Train and apply a vectorizer to the train texts\n",
    "vect = CountVectorizer()\n",
    "vect.fit(train.Title)\n",
    "X_train_dtm = vect.transform(train.Title)\n",
    "\n",
    "# Transform test data, train a classifier and apply it to the test data\n",
    "X_test_dtm = vect.transform(test.Title)\n",
    "nb = MultinomialNB()\n",
    "nb.fit(X_train_dtm, train.Label)\n",
    "y_test_pred = nb.predict(X_test_dtm)"
   ]
  },
  {
   "cell_type": "code",
   "execution_count": 7,
   "metadata": {},
   "outputs": [
    {
     "data": {
      "text/plain": [
       "array([[ 396,   34,    8,   29,   35],\n",
       "       [  83, 1881,   19,   48,   12],\n",
       "       [   6,   30,  132,    9,    9],\n",
       "       [  12,    8,    2,  165,   32],\n",
       "       [  37,    9,    9,   56,  312]], dtype=int64)"
      ]
     },
     "execution_count": 7,
     "metadata": {},
     "output_type": "execute_result"
    }
   ],
   "source": [
    "# Confusion matrix\n",
    "metrics.confusion_matrix(test.Label, y_test_pred)"
   ]
  },
  {
   "cell_type": "code",
   "execution_count": 8,
   "metadata": {},
   "outputs": [
    {
     "data": {
      "text/plain": [
       "0.855618144085384"
      ]
     },
     "execution_count": 8,
     "metadata": {},
     "output_type": "execute_result"
    }
   ],
   "source": [
    "# Accuracy\n",
    "metrics.accuracy_score(test.Label, y_test_pred)"
   ]
  },
  {
   "cell_type": "code",
   "execution_count": null,
   "metadata": {},
   "outputs": [],
   "source": []
  }
 ],
 "metadata": {
  "kernelspec": {
   "display_name": "Python 3",
   "language": "python",
   "name": "python3"
  },
  "language_info": {
   "codemirror_mode": {
    "name": "ipython",
    "version": 3
   },
   "file_extension": ".py",
   "mimetype": "text/x-python",
   "name": "python",
   "nbconvert_exporter": "python",
   "pygments_lexer": "ipython3",
   "version": "3.7.4"
  }
 },
 "nbformat": 4,
 "nbformat_minor": 2
}
